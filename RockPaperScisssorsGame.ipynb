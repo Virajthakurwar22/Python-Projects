{
 "cells": [
  {
   "cell_type": "code",
   "execution_count": null,
   "id": "3b323672",
   "metadata": {},
   "outputs": [],
   "source": [
    "import random\n",
    "\n",
    "while True:\n",
    "    choices = [\"rock\", \"paper\", \"scissors\"]\n",
    "\n",
    "    computer = random.choice(choices)\n",
    "    player = None\n",
    "\n",
    "    while player not in choices:\n",
    "        player = input(\"Rock, Paper or Scissors?: \").lower()\n",
    "\n",
    "    if player == computer:\n",
    "        print(\"Computer:\", computer)\n",
    "        print(\"Player:\", player)\n",
    "        print(\"Tie!\")\n",
    "    elif player == \"rock\":\n",
    "        if computer == \"paper\":\n",
    "            print(\"computer: \", computer)\n",
    "            print(\"Player: \", player)\n",
    "            print(\"You loose!\")\n",
    "        if computer == \"scissor\":\n",
    "            print(\"computer: \", computer)\n",
    "            print(\"Player: \", player)\n",
    "            print(\"You win!\")\n",
    "\n",
    "    elif player == \"paper\":\n",
    "        if computer == \"scissor\":\n",
    "            print(\"computer: \", computer)\n",
    "            print(\"Player: \", player)\n",
    "            print(\"You loose!\")\n",
    "        if computer == \"rock\":\n",
    "            print(\"computer: \", computer)\n",
    "            print(\"Player: \", player)\n",
    "            print(\"You win!\")\n",
    "\n",
    "    elif player == \"scissor\":\n",
    "        if computer == \"rock\":\n",
    "            print(\"computer: \", computer)\n",
    "            print(\"Player: \", player)\n",
    "            print(\"You loose!\")\n",
    "        if computer == \"paper\":\n",
    "            print(\"computer: \", computer)\n",
    "            print(\"Player: \", player)\n",
    "            print(\"You win!\")\n",
    "    play_again = input(\"play again(yes/no): \").lower()\n",
    "\n",
    "    if play_again == \"no\":\n",
    "        print(\"Bye\")\n",
    "        break"
   ]
  }
 ],
 "metadata": {
  "kernelspec": {
   "display_name": "Python 3 (ipykernel)",
   "language": "python",
   "name": "python3"
  },
  "language_info": {
   "codemirror_mode": {
    "name": "ipython",
    "version": 3
   },
   "file_extension": ".py",
   "mimetype": "text/x-python",
   "name": "python",
   "nbconvert_exporter": "python",
   "pygments_lexer": "ipython3",
   "version": "3.9.12"
  }
 },
 "nbformat": 4,
 "nbformat_minor": 5
}
